{
 "cells": [
  {
   "cell_type": "code",
   "execution_count": 1,
   "metadata": {},
   "outputs": [
    {
     "ename": "ModuleNotFoundError",
     "evalue": "No module named 'cv2'",
     "output_type": "error",
     "traceback": [
      "\u001b[1;31m---------------------------------------------------------------------------\u001b[0m",
      "\u001b[1;31mModuleNotFoundError\u001b[0m                       Traceback (most recent call last)",
      "\u001b[1;32m<ipython-input-1-9c91312f63cd>\u001b[0m in \u001b[0;36m<module>\u001b[1;34m\u001b[0m\n\u001b[1;32m----> 1\u001b[1;33m \u001b[1;32mimport\u001b[0m \u001b[0mcv2\u001b[0m\u001b[1;33m\u001b[0m\u001b[1;33m\u001b[0m\u001b[0m\n\u001b[0m\u001b[0;32m      2\u001b[0m \u001b[1;32mimport\u001b[0m \u001b[0mnumpy\u001b[0m \u001b[1;32mas\u001b[0m \u001b[0mnp\u001b[0m\u001b[1;33m\u001b[0m\u001b[1;33m\u001b[0m\u001b[0m\n\u001b[0;32m      3\u001b[0m \u001b[1;32mimport\u001b[0m \u001b[0mos\u001b[0m\u001b[1;33m\u001b[0m\u001b[1;33m\u001b[0m\u001b[0m\n\u001b[0;32m      4\u001b[0m \u001b[1;32mimport\u001b[0m \u001b[0mh5py\u001b[0m\u001b[1;33m\u001b[0m\u001b[1;33m\u001b[0m\u001b[0m\n\u001b[0;32m      5\u001b[0m \u001b[1;32mimport\u001b[0m \u001b[0mtime\u001b[0m\u001b[1;33m\u001b[0m\u001b[1;33m\u001b[0m\u001b[0m\n",
      "\u001b[1;31mModuleNotFoundError\u001b[0m: No module named 'cv2'"
     ]
    }
   ],
   "source": [
    "import cv2\n",
    "import numpy as np\n",
    "import os\n",
    "import h5py\n",
    "import time\n",
    "from keras.models import Sequential\n",
    "from keras.utils import np_utils\n",
    "from keras.layers import Dense, Dropout, Flatten, Conv2D, MaxPooling2D, GlobalAveragePooling2D\n",
    "from keras.optimizers import Adam\n",
    "from keras.models import Model\n",
    "from keras import applications\n",
    "import itertools\n",
    "import matplotlib.pyplot as plt\n",
    "%matplotlib inline\n",
    "from pathlib import Path\n",
    "from sklearn.metrics import accuracy_score\n",
    "from sklearn.metrics import classification_report\n",
    "from sklearn.metrics import confusion_matrix"
   ]
  },
  {
   "cell_type": "code",
   "execution_count": 2,
   "metadata": {},
   "outputs": [],
   "source": [
    "train_data_dir = 'input/train'\n",
    "test_data_dir = 'input/test'"
   ]
  },
  {
   "cell_type": "code",
   "execution_count": 3,
   "metadata": {},
   "outputs": [
    {
     "name": "stdout",
     "output_type": "stream",
     "text": [
      "['high', 'medium', 'negative']\n"
     ]
    }
   ],
   "source": [
    "class_labels = os.listdir(test_data_dir)\n",
    "print(class_labels)"
   ]
  },
  {
   "cell_type": "code",
   "execution_count": 4,
   "metadata": {},
   "outputs": [
    {
     "name": "stdout",
     "output_type": "stream",
     "text": [
      "test\n",
      "high 9\n",
      "medium 19\n",
      "negative 12\n",
      "test ----- 40\n",
      "train\n",
      "high 203\n",
      "medium 306\n",
      "negative 410\n",
      "train ----- 919\n"
     ]
    }
   ],
   "source": [
    "for wdir in os.listdir('input'):\n",
    "    print(wdir)\n",
    "    wdir_total = 0\n",
    "    for label in class_labels:\n",
    "        total = len(os.listdir(os.path.join('input', wdir, label)))\n",
    "        print(label, total)\n",
    "        wdir_total +=total\n",
    "    print(wdir,'-----',wdir_total)"
   ]
  },
  {
   "cell_type": "code",
   "execution_count": 5,
   "metadata": {},
   "outputs": [],
   "source": [
    "nb_train_samples =919\n",
    "nb_test_samples = 47\n",
    "num_classes = 3\n",
    "img_rows=64 \n",
    "img_cols= 64\n",
    "channel = 3"
   ]
  },
  {
   "cell_type": "code",
   "execution_count": 6,
   "metadata": {},
   "outputs": [],
   "source": [
    "def load_training_data():\n",
    "    labels = os.listdir(train_data_dir)\n",
    "    print(labels)\n",
    "    total = len(labels)\n",
    "    \n",
    "    X_train = np.ndarray((nb_train_samples, img_rows, img_cols, 3), dtype = np.uint8)\n",
    "    Y_train = np.zeros((nb_train_samples,), dtype = np.uint8)\n",
    "    \n",
    "    i = 0\n",
    "    print('-'*30)\n",
    "    print('Creating training images...')\n",
    "    print('-'*30)\n",
    "    \n",
    "    j = 0\n",
    "    for label in labels:\n",
    "        image_names_train = os.listdir(os.path.join(train_data_dir, label))\n",
    "        total = len(image_names_train)\n",
    "        print(label, total)\n",
    "        for image_name in image_names_train:\n",
    "            img = cv2.imread(os.path.join(train_data_dir, label, image_name), 1)\n",
    "            img = np.array(cv2.resize(img, (img_rows,img_cols)))\n",
    "            X_train[i] = img\n",
    "            Y_train[i] = j\n",
    "\n",
    "            if i % 800 == 0:\n",
    "                print('Done: {0}/{1} images'.format(i, total))\n",
    "            i += 1\n",
    "        j += 1    \n",
    "    print(str(i) +\"-------\"+ str(j))                \n",
    "    print('Loading done.')\n",
    "    \n",
    "    print('Transform targets to keras compatible format.')\n",
    "    Y_train = np_utils.to_categorical(Y_train[:nb_train_samples], num_classes)\n",
    "\n",
    "    np.save('dataset/imgs_train.npy', X_train, Y_train)\n",
    "    return X_train, Y_train"
   ]
  },
  {
   "cell_type": "code",
   "execution_count": 7,
   "metadata": {},
   "outputs": [],
   "source": [
    "def load_validation_data():\n",
    "    labels = os.listdir(test_data_dir)\n",
    "    \n",
    "\n",
    "    X_test = np.ndarray((nb_test_samples, img_rows, img_cols, 3), dtype=np.uint8)\n",
    "    Y_test = np.zeros((nb_test_samples,), dtype='uint8')\n",
    "\n",
    "    i = 0\n",
    "    print('-'*30)\n",
    "    print('Creating validation images...')\n",
    "    print('-'*30)\n",
    "    j = 0\n",
    "    for label in labels:\n",
    "        image_names_test = os.listdir(os.path.join(test_data_dir, label))\n",
    "        total = len(image_names_test)\n",
    "        print(label, total)\n",
    "        for image_name in image_names_test:\n",
    "            img = cv2.imread(os.path.join(test_data_dir, label, image_name), 1)\n",
    "\n",
    "            img = np.array(cv2.resize(img, (img_rows,img_cols)))\n",
    "\n",
    "            X_test[i] = img\n",
    "            Y_test[i] = j\n",
    "\n",
    "            if i % 200 == 0:\n",
    "                print('Done: {0}/{1} images'.format(i, total))\n",
    "            i += 1\n",
    "        j += 1\n",
    "    print(i)            \n",
    "    print('Loading done.')\n",
    "    \n",
    "    print('Transform targets to keras compatible format.');\n",
    "    Y_test = np_utils.to_categorical(Y_test[:nb_test_samples], num_classes)\n",
    "\n",
    "    np.save('dataset/imgs_test.npy', X_test, Y_test)\n",
    "    \n",
    "    return X_test, Y_test"
   ]
  },
  {
   "cell_type": "code",
   "execution_count": 8,
   "metadata": {},
   "outputs": [
    {
     "name": "stdout",
     "output_type": "stream",
     "text": [
      "['high', 'medium', 'negative']\n",
      "------------------------------\n",
      "Creating training images...\n",
      "------------------------------\n",
      "high 203\n",
      "Done: 0/203 images\n",
      "medium 306\n",
      "negative 410\n",
      "Done: 800/410 images\n",
      "919-------3\n",
      "Loading done.\n",
      "Transform targets to keras compatible format.\n",
      "------------------------------\n",
      "Creating validation images...\n",
      "------------------------------\n",
      "high 9\n",
      "Done: 0/9 images\n",
      "medium 19\n",
      "negative 12\n",
      "40\n",
      "Loading done.\n",
      "Transform targets to keras compatible format.\n"
     ]
    }
   ],
   "source": [
    "#load data for training\n",
    "x_train, y_train = load_training_data()\n",
    "x_test, y_test = load_validation_data()"
   ]
  },
  {
   "cell_type": "code",
   "execution_count": 9,
   "metadata": {},
   "outputs": [
    {
     "name": "stdout",
     "output_type": "stream",
     "text": [
      "(919, 64, 64, 3) (919, 3) (47, 64, 64, 3) (47, 3)\n"
     ]
    }
   ],
   "source": [
    "#print the shape of the data\n",
    "print(x_train.shape, y_train.shape, x_test.shape, y_test.shape)"
   ]
  },
  {
   "cell_type": "code",
   "execution_count": 10,
   "metadata": {},
   "outputs": [
    {
     "name": "stdout",
     "output_type": "stream",
     "text": [
      "[29 63 79]\n"
     ]
    }
   ],
   "source": [
    "# R G B\n",
    "print(x_train[0][0][0])"
   ]
  },
  {
   "cell_type": "code",
   "execution_count": 11,
   "metadata": {},
   "outputs": [
    {
     "name": "stdout",
     "output_type": "stream",
     "text": [
      "[1. 0. 0.]\n"
     ]
    }
   ],
   "source": [
    "print(y_train[0])"
   ]
  },
  {
   "cell_type": "code",
   "execution_count": 12,
   "metadata": {},
   "outputs": [],
   "source": [
    "# normalize data\n",
    "x_train = x_train.astype('float32')\n",
    "x_test = x_test.astype('float32')\n",
    "\n",
    "x_train /= 127.5\n",
    "x_test /= 127.5"
   ]
  },
  {
   "cell_type": "code",
   "execution_count": 13,
   "metadata": {},
   "outputs": [
    {
     "name": "stdout",
     "output_type": "stream",
     "text": [
      "[[0.22745098 0.49411765 0.61960787]\n",
      " [0.22745098 0.49411765 0.61960787]\n",
      " [0.21960784 0.4862745  0.6117647 ]\n",
      " [0.27450982 0.5254902  0.6745098 ]\n",
      " [0.14901961 0.4        0.54901963]\n",
      " [0.26666668 0.5019608  0.5882353 ]\n",
      " [0.16470589 0.4        0.4862745 ]\n",
      " [0.25882354 0.49411765 0.5803922 ]\n",
      " [0.20392157 0.40784314 0.5019608 ]\n",
      " [0.22745098 0.43137255 0.5254902 ]\n",
      " [0.2509804  0.36078432 0.45490196]\n",
      " [0.13333334 0.24313726 0.3372549 ]\n",
      " [0.1254902  0.23529412 0.32941177]\n",
      " [0.20392157 0.2509804  0.3372549 ]\n",
      " [0.29803923 0.34509805 0.43137255]\n",
      " [0.2509804  0.28235295 0.36862746]\n",
      " [0.2509804  0.28235295 0.36862746]\n",
      " [0.27450982 0.30588236 0.39215687]\n",
      " [0.10196079 0.1882353  0.21960784]\n",
      " [0.4        0.4862745  0.5176471 ]\n",
      " [0.22745098 0.3372549  0.3529412 ]\n",
      " [0.34509805 0.4862745  0.49411765]\n",
      " [0.22745098 0.36862746 0.3764706 ]\n",
      " [0.19607843 0.32156864 0.41568628]\n",
      " [0.1882353  0.3137255  0.40784314]\n",
      " [0.11764706 0.2509804  0.34509805]\n",
      " [0.3137255  0.5019608  0.65882355]\n",
      " [0.30588236 0.49411765 0.6509804 ]\n",
      " [0.19607843 0.39215687 0.54901963]\n",
      " [0.23529412 0.43137255 0.5882353 ]\n",
      " [0.14901961 0.34509805 0.49411765]\n",
      " [0.23529412 0.36078432 0.4627451 ]\n",
      " [0.25882354 0.38431373 0.4862745 ]\n",
      " [0.2901961  0.43137255 0.44705883]\n",
      " [0.21960784 0.36078432 0.36862746]\n",
      " [0.18039216 0.32156864 0.32941177]\n",
      " [0.18039216 0.2901961  0.38431373]\n",
      " [0.25882354 0.36862746 0.4627451 ]\n",
      " [0.1882353  0.3137255  0.41568628]\n",
      " [0.26666668 0.4        0.5019608 ]\n",
      " [0.5411765  0.6745098  0.7764706 ]\n",
      " [0.4        0.49411765 0.5882353 ]\n",
      " [0.32941177 0.42352942 0.5176471 ]\n",
      " [0.3764706  0.44705883 0.54901963]\n",
      " [0.4627451  0.5019608  0.61960787]\n",
      " [0.29803923 0.3372549  0.45490196]\n",
      " [0.3529412  0.36862746 0.45490196]\n",
      " [0.29803923 0.3137255  0.4       ]\n",
      " [0.2901961  0.30588236 0.40784314]\n",
      " [0.32941177 0.36078432 0.5019608 ]\n",
      " [0.34509805 0.3764706  0.5176471 ]\n",
      " [0.5176471  0.5647059  0.6666667 ]\n",
      " [0.30588236 0.3529412  0.45490196]\n",
      " [0.19607843 0.24313726 0.34509805]\n",
      " [0.44705883 0.50980395 0.6117647 ]\n",
      " [0.22745098 0.2901961  0.39215687]\n",
      " [0.3764706  0.4392157  0.47843137]\n",
      " [0.3137255  0.38431373 0.41568628]\n",
      " [0.32156864 0.39215687 0.42352942]\n",
      " [0.28235295 0.36078432 0.36078432]\n",
      " [0.22745098 0.30588236 0.30588236]\n",
      " [0.25882354 0.32156864 0.32156864]\n",
      " [0.26666668 0.32941177 0.32941177]\n",
      " [0.26666668 0.32941177 0.32941177]]\n"
     ]
    }
   ],
   "source": [
    "print(x_train[0][0])"
   ]
  },
  {
   "cell_type": "code",
   "execution_count": 14,
   "metadata": {
    "scrolled": false
   },
   "outputs": [],
   "source": [
    "vgg16_model = applications.VGG16(weights='imagenet', include_top=False, input_shape=(img_rows,img_rows,channel))"
   ]
  },
  {
   "cell_type": "code",
   "execution_count": 15,
   "metadata": {},
   "outputs": [],
   "source": [
    "vgg16_model = Model(vgg16_model.input, vgg16_model.get_layer('block5_conv2').output)"
   ]
  },
  {
   "cell_type": "code",
   "execution_count": 16,
   "metadata": {},
   "outputs": [],
   "source": [
    "x = vgg16_model.output\n",
    "x = GlobalAveragePooling2D()(x)\n",
    "x = Dense(1024, activation='relu')(x)\n",
    "x = Dropout(0.5)(x)\n",
    "predictions = Dense(num_classes, activation='softmax', name='predictions')(x)"
   ]
  },
  {
   "cell_type": "code",
   "execution_count": 17,
   "metadata": {},
   "outputs": [],
   "source": [
    "model = Model(inputs=vgg16_model.input, outputs=predictions)"
   ]
  },
  {
   "cell_type": "code",
   "execution_count": 18,
   "metadata": {},
   "outputs": [
    {
     "name": "stdout",
     "output_type": "stream",
     "text": [
      "_________________________________________________________________\n",
      "Layer (type)                 Output Shape              Param #   \n",
      "=================================================================\n",
      "input_1 (InputLayer)         (None, 64, 64, 3)         0         \n",
      "_________________________________________________________________\n",
      "block1_conv1 (Conv2D)        (None, 64, 64, 64)        1792      \n",
      "_________________________________________________________________\n",
      "block1_conv2 (Conv2D)        (None, 64, 64, 64)        36928     \n",
      "_________________________________________________________________\n",
      "block1_pool (MaxPooling2D)   (None, 32, 32, 64)        0         \n",
      "_________________________________________________________________\n",
      "block2_conv1 (Conv2D)        (None, 32, 32, 128)       73856     \n",
      "_________________________________________________________________\n",
      "block2_conv2 (Conv2D)        (None, 32, 32, 128)       147584    \n",
      "_________________________________________________________________\n",
      "block2_pool (MaxPooling2D)   (None, 16, 16, 128)       0         \n",
      "_________________________________________________________________\n",
      "block3_conv1 (Conv2D)        (None, 16, 16, 256)       295168    \n",
      "_________________________________________________________________\n",
      "block3_conv2 (Conv2D)        (None, 16, 16, 256)       590080    \n",
      "_________________________________________________________________\n",
      "block3_conv3 (Conv2D)        (None, 16, 16, 256)       590080    \n",
      "_________________________________________________________________\n",
      "block3_pool (MaxPooling2D)   (None, 8, 8, 256)         0         \n",
      "_________________________________________________________________\n",
      "block4_conv1 (Conv2D)        (None, 8, 8, 512)         1180160   \n",
      "_________________________________________________________________\n",
      "block4_conv2 (Conv2D)        (None, 8, 8, 512)         2359808   \n",
      "_________________________________________________________________\n",
      "block4_conv3 (Conv2D)        (None, 8, 8, 512)         2359808   \n",
      "_________________________________________________________________\n",
      "block4_pool (MaxPooling2D)   (None, 4, 4, 512)         0         \n",
      "_________________________________________________________________\n",
      "block5_conv1 (Conv2D)        (None, 4, 4, 512)         2359808   \n",
      "_________________________________________________________________\n",
      "block5_conv2 (Conv2D)        (None, 4, 4, 512)         2359808   \n",
      "_________________________________________________________________\n",
      "global_average_pooling2d_1 ( (None, 512)               0         \n",
      "_________________________________________________________________\n",
      "dense_1 (Dense)              (None, 1024)              525312    \n",
      "_________________________________________________________________\n",
      "dropout_1 (Dropout)          (None, 1024)              0         \n",
      "_________________________________________________________________\n",
      "predictions (Dense)          (None, 3)                 3075      \n",
      "=================================================================\n",
      "Total params: 12,883,267\n",
      "Trainable params: 12,883,267\n",
      "Non-trainable params: 0\n",
      "_________________________________________________________________\n"
     ]
    }
   ],
   "source": [
    "model.summary()"
   ]
  },
  {
   "cell_type": "code",
   "execution_count": 19,
   "metadata": {},
   "outputs": [],
   "source": [
    "adam = Adam(lr=0.0001, decay=1e-6) \n",
    "size = 32\n",
    "epoch = 5"
   ]
  },
  {
   "cell_type": "code",
   "execution_count": 20,
   "metadata": {},
   "outputs": [],
   "source": [
    "model.compile(\n",
    "    loss= 'categorical_crossentropy',\n",
    "    optimizer=adam,\n",
    "    metrics=['accuracy']\n",
    ")"
   ]
  },
  {
   "cell_type": "code",
   "execution_count": 21,
   "metadata": {
    "scrolled": false
   },
   "outputs": [
    {
     "name": "stdout",
     "output_type": "stream",
     "text": [
      "Train on 919 samples, validate on 47 samples\n",
      "Epoch 1/5\n",
      "919/919 [==============================] - 254s 277ms/step - loss: 0.2477 - acc: 0.9053 - val_loss: 3.3533 - val_acc: 0.4894\n",
      "Epoch 2/5\n",
      "919/919 [==============================] - 248s 270ms/step - loss: 0.0512 - acc: 0.9837 - val_loss: 5.4598 - val_acc: 0.5532\n",
      "Epoch 3/5\n",
      "919/919 [==============================] - 249s 271ms/step - loss: 0.1007 - acc: 0.9717 - val_loss: 1.3410 - val_acc: 0.6596\n",
      "Epoch 4/5\n",
      "919/919 [==============================] - 250s 272ms/step - loss: 0.0406 - acc: 0.9815 - val_loss: 2.0277 - val_acc: 0.6596\n",
      "Epoch 5/5\n",
      "919/919 [==============================] - 249s 271ms/step - loss: 0.0379 - acc: 0.9913 - val_loss: 1.9453 - val_acc: 0.7872\n"
     ]
    },
    {
     "data": {
      "text/plain": [
       "<keras.callbacks.History at 0x21f0a678a90>"
      ]
     },
     "execution_count": 21,
     "metadata": {},
     "output_type": "execute_result"
    }
   ],
   "source": [
    "model.fit(\n",
    "    x_train,\n",
    "    y_train,\n",
    "    batch_size=size,\n",
    "    epochs=epoch,\n",
    "    validation_data=(x_test, y_test),\n",
    "    shuffle=True\n",
    ")"
   ]
  },
  {
   "cell_type": "code",
   "execution_count": 22,
   "metadata": {},
   "outputs": [],
   "source": [
    "y_pred = model.predict(x_test, batch_size=10, verbose=0)"
   ]
  },
  {
   "cell_type": "code",
   "execution_count": 23,
   "metadata": {},
   "outputs": [
    {
     "name": "stdout",
     "output_type": "stream",
     "text": [
      "[[8.5751587e-01 7.2013371e-02 7.0470735e-02]\n",
      " [9.1348463e-01 3.3796854e-02 5.2718550e-02]\n",
      " [7.8265315e-01 1.2796362e-01 8.9383177e-02]\n",
      " [7.0342541e-01 1.3666582e-01 1.5990886e-01]\n",
      " [9.1540533e-01 2.9906014e-02 5.4688696e-02]\n",
      " [1.0089810e-09 1.0000000e+00 1.8415353e-11]\n",
      " [3.7890345e-07 9.9999964e-01 1.4019836e-08]\n",
      " [6.6253087e-09 1.0000000e+00 2.1199793e-10]\n",
      " [4.6114451e-08 1.0000000e+00 2.8891103e-09]\n",
      " [1.3850544e-14 1.0000000e+00 2.1849924e-15]\n",
      " [1.4580148e-14 1.0000000e+00 2.3190818e-15]\n",
      " [1.6846750e-14 1.0000000e+00 2.8214487e-15]\n",
      " [1.6931082e-14 1.0000000e+00 2.9540570e-15]\n",
      " [1.8726421e-14 1.0000000e+00 3.0779500e-15]\n",
      " [1.9339002e-14 1.0000000e+00 3.2677108e-15]\n",
      " [1.9234089e-14 1.0000000e+00 3.2464645e-15]\n",
      " [6.2439245e-01 1.4288028e-02 3.6131945e-01]\n",
      " [6.1321205e-01 1.5390786e-02 3.7139711e-01]\n",
      " [4.5348287e-01 1.1969810e-02 5.3454739e-01]\n",
      " [5.7730293e-01 1.0658107e-02 4.1203892e-01]\n",
      " [4.0451041e-01 2.0671709e-02 5.7481796e-01]\n",
      " [1.0766943e-04 9.9985719e-01 3.5155503e-05]\n",
      " [3.8337972e-04 9.9946898e-01 1.4758689e-04]\n",
      " [1.7737458e-04 9.9975806e-01 6.4613276e-05]\n",
      " [1.2868461e-04 9.9982268e-01 4.8681661e-05]\n",
      " [2.3757722e-04 9.9966586e-01 9.6531956e-05]\n",
      " [1.7982862e-04 9.9974674e-01 7.3367424e-05]\n",
      " [1.4821394e-02 9.7908473e-01 6.0938853e-03]\n",
      " [1.7953557e-01 3.9096870e-03 8.1655473e-01]\n",
      " [2.7386409e-01 6.7853574e-03 7.1935058e-01]\n",
      " [1.7104702e-01 2.7076236e-03 8.2624537e-01]\n",
      " [8.0056779e-02 1.2723641e-03 9.1867089e-01]\n",
      " [3.3986982e-02 4.9440598e-04 9.6551859e-01]\n",
      " [1.2721765e-02 1.7623612e-04 9.8710197e-01]\n",
      " [1.0721079e-02 1.1600838e-04 9.8916292e-01]\n",
      " [4.7693169e-03 5.0585193e-05 9.9518013e-01]\n",
      " [1.9141060e-03 1.9798386e-05 9.9806613e-01]\n",
      " [9.1145752e-04 9.4942588e-06 9.9907899e-01]\n",
      " [6.8917900e-04 6.4715982e-06 9.9930429e-01]\n",
      " [8.0188614e-04 7.0128535e-06 9.9919111e-01]\n",
      " [7.9693371e-01 3.4120772e-03 1.9965422e-01]\n",
      " [7.1192104e-01 2.5644191e-03 2.8551456e-01]\n",
      " [9.5020336e-01 3.7002913e-03 4.6096370e-02]\n",
      " [7.8780890e-01 2.8190641e-02 1.8400040e-01]\n",
      " [1.4039916e-02 1.1196249e-04 9.8584807e-01]\n",
      " [9.6350920e-01 1.5116759e-03 3.4979101e-02]\n",
      " [9.6831751e-01 7.8840967e-04 3.0894147e-02]]\n"
     ]
    }
   ],
   "source": [
    "print(y_pred)"
   ]
  },
  {
   "cell_type": "code",
   "execution_count": 24,
   "metadata": {},
   "outputs": [
    {
     "data": {
      "text/plain": [
       "47"
      ]
     },
     "execution_count": 24,
     "metadata": {},
     "output_type": "execute_result"
    }
   ],
   "source": [
    "y_predict = []\n",
    "for i in range(0, len(y_pred)):\n",
    "    y_predict.append(int(np.argmax(y_pred[i])))\n",
    "len(y_predict)"
   ]
  },
  {
   "cell_type": "code",
   "execution_count": 25,
   "metadata": {},
   "outputs": [
    {
     "data": {
      "text/plain": [
       "47"
      ]
     },
     "execution_count": 25,
     "metadata": {},
     "output_type": "execute_result"
    }
   ],
   "source": [
    "y_true = []\n",
    "for i in range(0, len(y_test)):\n",
    "    y_true.append(int(np.argmax(y_test[i])))\n",
    "len(y_true)"
   ]
  },
  {
   "cell_type": "code",
   "execution_count": 26,
   "metadata": {},
   "outputs": [],
   "source": [
    "def plot_confusion_matrix(cm, classes,\n",
    "                          title='Confusion matrix',\n",
    "                          cmap=plt.cm.Blues):\n",
    "    plt.figure(figsize=(7,7))\n",
    "    plt.imshow(cm, interpolation='nearest', cmap=cmap)\n",
    "    plt.title(title)\n",
    "    plt.colorbar()\n",
    "    tick_marks = np.arange(len(classes))\n",
    "    plt.xticks(tick_marks, classes, rotation=45)\n",
    "    plt.yticks(tick_marks, classes)\n",
    "\n",
    "    fmt = 'd'\n",
    "    thresh = cm.max() / 2.\n",
    "    for i, j in itertools.product(range(cm.shape[0]), range(cm.shape[1])):\n",
    "        plt.text(j, i, format(cm[i, j], fmt),\n",
    "                 horizontalalignment=\"center\",\n",
    "                 color=\"white\" if cm[i, j] > thresh else \"black\")\n",
    "\n",
    "    plt.ylabel('Actual label')\n",
    "    plt.xlabel('Predicted label')\n",
    "    plt.tight_layout()\n",
    "    plt.show()"
   ]
  },
  {
   "cell_type": "code",
   "execution_count": 27,
   "metadata": {},
   "outputs": [],
   "source": [
    "cm_plot_labels = class_labels"
   ]
  },
  {
   "cell_type": "code",
   "execution_count": 28,
   "metadata": {},
   "outputs": [
    {
     "name": "stdout",
     "output_type": "stream",
     "text": [
      "             precision    recall  f1-score   support\n",
      "\n",
      "          0       0.79      0.69      0.73        16\n",
      "          1       0.78      0.74      0.76        19\n",
      "          2       0.80      1.00      0.89        12\n",
      "\n",
      "avg / total       0.79      0.79      0.78        47\n",
      "\n"
     ]
    }
   ],
   "source": [
    "print(classification_report(y_true=y_true,y_pred=y_predict))"
   ]
  },
  {
   "cell_type": "code",
   "execution_count": 29,
   "metadata": {},
   "outputs": [
    {
     "data": {
      "image/png": "[encoded data removed]",
      "text/plain": [
       "<Figure size 504x504 with 2 Axes>"
      ]
     },
     "metadata": {
      "needs_background": "light"
     },
     "output_type": "display_data"
    }
   ],
   "source": [
    "# to plot confusion matrix\n",
    "cm = confusion_matrix(y_true=y_true, y_pred=y_predict)\n",
    "plot_confusion_matrix(cm, cm_plot_labels, title='Confusion Matrix')"
   ]
  },
  {
   "cell_type": "code",
   "execution_count": 30,
   "metadata": {},
   "outputs": [
    {
     "name": "stdout",
     "output_type": "stream",
     "text": [
      "47/47 [==============================] - 3s 71ms/step\n",
      "Loss Value :  1.9452796502316252\n",
      "Accuracy :  0.7872340438213754\n"
     ]
    }
   ],
   "source": [
    "# model performance\n",
    "score = model.evaluate(x= x_test, y= y_test, batch_size=32)\n",
    "acc = score[1]\n",
    "err = 1 - acc\n",
    "print(\"Loss Value : \", score[0])\n",
    "print(\"Accuracy : \", score[1])"
   ]
  },
  {
   "cell_type": "code",
   "execution_count": 31,
   "metadata": {},
   "outputs": [
    {
     "data": {
      "text/plain": [
       "10868"
      ]
     },
     "execution_count": 31,
     "metadata": {},
     "output_type": "execute_result"
    }
   ],
   "source": [
    "model_structure = model.to_json()\n",
    "f = Path(\"model/model_structure.json\")\n",
    "f.write_text(model_structure)"
   ]
  },
  {
   "cell_type": "code",
   "execution_count": 32,
   "metadata": {},
   "outputs": [],
   "source": [
    "model.save_weights(\"model/model_weights.h5\")"
   ]
  },
  {
   "cell_type": "code",
   "execution_count": 33,
   "metadata": {},
   "outputs": [],
   "source": [
    "def keys(f):\n",
    "    return [items for items in f.keys()]"
   ]
  },
  {
   "cell_type": "code",
   "execution_count": 34,
   "metadata": {},
   "outputs": [
    {
     "data": {
      "text/plain": [
       "['block1_conv1',\n",
       " 'block1_conv2',\n",
       " 'block1_pool',\n",
       " 'block2_conv1',\n",
       " 'block2_conv2',\n",
       " 'block2_pool',\n",
       " 'block3_conv1',\n",
       " 'block3_conv2',\n",
       " 'block3_conv3',\n",
       " 'block3_pool',\n",
       " 'block4_conv1',\n",
       " 'block4_conv2',\n",
       " 'block4_conv3',\n",
       " 'block4_pool',\n",
       " 'block5_conv1',\n",
       " 'block5_conv2',\n",
       " 'dense_1',\n",
       " 'dropout_1',\n",
       " 'global_average_pooling2d_1',\n",
       " 'input_1',\n",
       " 'predictions']"
      ]
     },
     "execution_count": 34,
     "metadata": {},
     "output_type": "execute_result"
    }
   ],
   "source": [
    "filename = \"model/model_weights.h5\"\n",
    "h5 = h5py.File(filename,'r')\n",
    "keys(h5)"
   ]
  },
  {
   "cell_type": "code",
   "execution_count": 35,
   "metadata": {},
   "outputs": [],
   "source": [
    "h5.close()"
   ]
  },
  {
   "cell_type": "code",
   "execution_count": null,
   "metadata": {},
   "outputs": [],
   "source": []
  },
  {
   "cell_type": "markdown",
   "metadata": {},
   "source": [
    "# !!! CNN Model Trained and saved successfully !!!"
   ]
  },
  {
   "cell_type": "code",
   "execution_count": null,
   "metadata": {},
   "outputs": [],
   "source": []
  }
 ],
 "metadata": {
  "kernelspec": {
   "display_name": "Python 3",
   "language": "python",
   "name": "python3"
  }
 },
 "nbformat": 4,
 "nbformat_minor": 2
}
