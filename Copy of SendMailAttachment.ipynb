{
 "cells": [
  {
   "cell_type": "code",
   "execution_count": 2,
   "metadata": {},
   "outputs": [
    {
     "name": "stdout",
     "output_type": "stream",
     "text": [
      "Sender email address : driving.prediction@gmail.com\n",
      "Receiver email address : dhiraj@dhsinformatics.com\n"
     ]
    },
    {
     "data": {
      "text/plain": [
       "(221, b'2.0.0 closing connection m2sm1560349pfi.24 - gsmtp')"
      ]
     },
     "execution_count": 2,
     "metadata": {},
     "output_type": "execute_result"
    }
   ],
   "source": [
    "# libraries to be imported \n",
    "import smtplib \n",
    "from email.mime.multipart import MIMEMultipart \n",
    "from email.mime.text import MIMEText \n",
    "from email.mime.base import MIMEBase \n",
    "from email import encoders \n",
    "   \n",
    "fromaddr = input(\"Sender email address : \")\n",
    "toaddr = input(\"Receiver email address : \")\n",
    "   \n",
    "msg = MIMEMultipart() \n",
    "msg['From'] = fromaddr \n",
    "msg['To'] = toaddr \n",
    "msg['Subject'] = \"Fire_Detection Msg\"\n",
    "\n",
    "body = \"See the below fire detected frame...\"\n",
    "msg.attach(MIMEText(body, 'plain')) \n",
    "  \n",
    "filename = \"860.jpg\"\n",
    "attachment = open(\"test_sample/860.jpg\", \"rb\") \n",
    "  \n",
    "# instance of MIMEBase and named as p \n",
    "p = MIMEBase('application', 'octet-stream') \n",
    "  \n",
    "p.set_payload((attachment).read()) \n",
    "encoders.encode_base64(p) \n",
    "   \n",
    "p.add_header('Content-Disposition', \"attachment; filename= %s\" % filename) \n",
    "\n",
    "msg.attach(p) \n",
    "  \n",
    "s = smtplib.SMTP('smtp.gmail.com', 587) \n",
    "s.starttls() \n",
    "\n",
    "s.login(fromaddr, \"driving001\") \n",
    "  \n",
    "text = msg.as_string() \n",
    "  \n",
    "s.sendmail(fromaddr, toaddr, text) \n",
    "  \n",
    "s.quit() "
   ]
  },
  {
   "cell_type": "code",
   "execution_count": null,
   "metadata": {},
   "outputs": [],
   "source": []
  }
 ],
 "metadata": {
  "kernelspec": {
   "display_name": "Python 3",
   "language": "python",
   "name": "python3"
  },
  "language_info": {
   "codemirror_mode": {
    "name": "ipython",
    "version": 3
   },
   "file_extension": ".py",
   "mimetype": "text/x-python",
   "name": "python",
   "nbconvert_exporter": "python",
   "pygments_lexer": "ipython3",
   "version": "3.6.6"
  }
 },
 "nbformat": 4,
 "nbformat_minor": 2
}
